{
 "cells": [
  {
   "cell_type": "markdown",
   "metadata": {},
   "source": [
    "# CC Method"
   ]
  },
  {
   "cell_type": "code",
   "execution_count": 11,
   "metadata": {},
   "outputs": [
    {
     "name": "stdout",
     "output_type": "stream",
     "text": [
      "Using matplotlib backend: Qt5Agg\n"
     ]
    }
   ],
   "source": [
    "%matplotlib\n",
    "import matplotlib.pyplot as plt\n",
    "import numpy as np\n",
    "import time\n",
    "\n",
    "#input variables here\n",
    "\n",
    "#hot stream variables\n",
    "Th1s = 250\n",
    "Th1t = 40\n",
    "Ch1 = 0.15\n",
    "\n",
    "Th2s = 200 ##set to same as Th1s if only 1 hot stream\n",
    "Th2t = 80 ##set to same as Th1t if only 1 hot stream\n",
    "Ch2 = 0.25 #set to 0 if only 1 hot stream\n",
    "\n",
    "#cold stream variables\n",
    "Tc1s = 20\n",
    "Tc1t = 180\n",
    "Cc1 = 0.2\n",
    "\n",
    "Tc2s = 140 ##set to same as Tc1s if only 1 cold stream\n",
    "Tc2t = 230 ##set to same as Tc1t if only 1 cold stream\n",
    "Cc2 = 0.3 ##set to 0 if only 1 cold stream\n",
    "\n",
    "##temperature settings\n",
    "Tmin = 10.00\n",
    "Tref = min([Th1t,Th2t,Tc1s,Tc2s])"
   ]
  },
  {
   "cell_type": "code",
   "execution_count": 12,
   "metadata": {},
   "outputs": [
    {
     "name": "stdout",
     "output_type": "stream",
     "text": [
      "Tmin = 10.000000000001279\n",
      "Qcmin = 9.999999999999767\n",
      "Qhmin = 7.500000000003098\n",
      "Hot Pinch Temp = 150\n",
      "Cold Pinch Temp = 139.99999999999872\n"
     ]
    }
   ],
   "source": [
    "##initialising hot stream eqns\n",
    "y1 = list(range(Th1t,Th1s + 1))\n",
    "y2 = list(range(Th2t,Th2s + 1))\n",
    "\n",
    "if Th1t > Th2t: \n",
    "    h1 = [Ch1*(item - Th1t) for item in y1]\n",
    "    h2 = [Ch2*(item - Tref) for item in y2]\n",
    "    \n",
    "else:\n",
    "    h1 = [Ch1*(item - Tref) for item in y1]\n",
    "    h2 = [Ch2*(item - Th2t) for item in y2]    \n",
    "\n",
    "## ych is temp range of composite hot stream, xh is enthalpy range of comp hot stream\n",
    "ych = np.unique(np.concatenate((y1,y2)))\n",
    "\n",
    "if max(y1) > max(y2):\n",
    "    xh1 = np.interp(ych, y1, h1, left=0, right=0)\n",
    "    xh2 = np.interp(ych, y2, h2, left=0, right=max(h2))\n",
    "else: \n",
    "    xh1 = np.interp(ych, y1, h1, left=0, right=max(h1))\n",
    "    xh2 = np.interp(ych, y2, h2, left=0, right=0)\n",
    "    \n",
    "xh = xh1 + xh2\n",
    "plt.plot(xh, ych, label=\"Composite Hot Curve\")\n",
    "\n",
    "####initialising cold stream eqns\n",
    "y3 = list(range(Tc1s, Tc1t + 1))\n",
    "y4 = list(range(Tc2s, Tc2t + 1))\n",
    "\n",
    "if Tc1s > Tc2s:\n",
    "    c1 = [Cc1*(item - Tc1s) for item in y3]\n",
    "    c2 = [Cc2*(item - Tref) for item in y4]\n",
    "else:\n",
    "    c1 = [Cc1*(item - Tref) for item in y3]\n",
    "    c2 = [Cc2*(item - Tc2s) for item in y4]\n",
    "\n",
    "## ycs is temp range of composite cold stream, xc is enthalpy range of comp cold stream\n",
    "\n",
    "ycs = np.unique(np.concatenate((y3,y4)))\n",
    "\n",
    "if max(y4) > max(y3): \n",
    "    xc1 = np.interp(ycs, y3, c1, left=0, right=max(c1))\n",
    "    xc2 = np.interp(ycs, y4, c2, left=0, right=0)\n",
    "else:\n",
    "    xc1 = np.interp(ycs, y3, c1, left=0, right=0)\n",
    "    xc2 = np.interp(ycs, y4, c2, left=0, right=max(c2))\n",
    "    \n",
    "xc = xc1+xc2\n",
    "###\n",
    "yca = (np.concatenate((ycs,[ycs[-1]] * (len(ych)-len(ycs)))))\n",
    "xa = (np.concatenate((xc,[xc[-1]] * (len(ych)-len(ycs)))))\n",
    "#plt.plot(xa, yca, label=\"Composite Cold Curve\")\n",
    "\n",
    "## solve for how much to shift cold curve along the x-axis(enthalpy)\n",
    "ycinter = np.interp(xh, xc, ycs, left = 0, right = 0 )\n",
    "tmin = min(ych-ycinter)\n",
    "\n",
    "while tmin < Tmin:\n",
    "    xc += 0.01\n",
    "    ycinter = np.interp(xh, xc, ycs, left = 0, right = 0 )\n",
    "    tmin = min(ych-ycinter)\n",
    "    \n",
    "tdiff = ych-ycinter\n",
    "index = np.where(tdiff==tmin)\n",
    "\n",
    "Tcoldpinch = ycinter[index][0]\n",
    "Thotpinch = ych[index][0]\n",
    "Qcmin = abs(xh[0] - xc[0])\n",
    "Qhmin = abs(xh[-1] - xc[-1])\n",
    "\n",
    "plt.plot(xc, ycs, label=\"Composite Cold Curve meeting Tmin\")\n",
    "plt.xlabel(\"Enthalpy\")\n",
    "plt.ylabel(\"Temperature\")\n",
    "plt.legend();\n",
    "\n",
    "print(f\"Tmin = {tmin}\")\n",
    "print(f\"Qcmin = {Qcmin}\")\n",
    "print(f\"Qhmin = {Qhmin}\")\n",
    "print(f\"Hot Pinch Temp = {Thotpinch}\")\n",
    "print(f\"Cold Pinch Temp = {Tcoldpinch}\")\n",
    "\n",
    "plt.show()"
   ]
  },
  {
   "cell_type": "code",
   "execution_count": null,
   "metadata": {},
   "outputs": [],
   "source": []
  },
  {
   "cell_type": "code",
   "execution_count": null,
   "metadata": {},
   "outputs": [],
   "source": []
  },
  {
   "cell_type": "code",
   "execution_count": null,
   "metadata": {},
   "outputs": [],
   "source": []
  }
 ],
 "metadata": {
  "kernelspec": {
   "display_name": "Python 3",
   "language": "python",
   "name": "python3"
  },
  "language_info": {
   "codemirror_mode": {
    "name": "ipython",
    "version": 3
   },
   "file_extension": ".py",
   "mimetype": "text/x-python",
   "name": "python",
   "nbconvert_exporter": "python",
   "pygments_lexer": "ipython3",
   "version": "3.7.6"
  }
 },
 "nbformat": 4,
 "nbformat_minor": 4
}
